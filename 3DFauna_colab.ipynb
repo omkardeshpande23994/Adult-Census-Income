{
  "cells": [
    {
      "cell_type": "markdown",
      "metadata": {
        "id": "view-in-github",
        "colab_type": "text"
      },
      "source": [
        "<a href=\"https://colab.research.google.com/github/omkardeshpande23994/Adult-Census-Income/blob/master/3DFauna_colab.ipynb\" target=\"_parent\"><img src=\"https://colab.research.google.com/assets/colab-badge.svg\" alt=\"Open In Colab\"/></a>"
      ]
    },
    {
      "cell_type": "code",
      "execution_count": null,
      "metadata": {
        "id": "VjYy0F2gZIPR"
      },
      "outputs": [],
      "source": [
        "%cd /content\n",
        "!git clone -b dev https://github.com/camenduru/3DFauna_demo-hf\n",
        "%cd /content/3DFauna_demo-hf\n",
        "\n",
        "!apt -y install -qq aria2\n",
        "!aria2c --console-log-level=error -c -x 16 -s 16 -k 1M https://huggingface.co/camenduru/3DFauna/resolve/main/iter0800000.pth -d /content/3DFauna_demo-hf/ckpts -o iter0800000.pth\n",
        "!aria2c --console-log-level=error -c -x 16 -s 16 -k 1M https://huggingface.co/camenduru/3DFauna/resolve/main/128_tets.npz -d /content/3DFauna_demo-hf/data/tets -o 128_tets.npz\n",
        "!aria2c --console-log-level=error -c -x 16 -s 16 -k 1M https://huggingface.co/camenduru/3DFauna/resolve/main/256_tets.npz -d /content/3DFauna_demo-hf/data/tets -o 256_tets.npz\n",
        "!aria2c --console-log-level=error -c -x 16 -s 16 -k 1M https://huggingface.co/camenduru/3DFauna/resolve/main/32_tets.npz -d /content/3DFauna_demo-hf/data/tets -o 32_tets.npz\n",
        "!aria2c --console-log-level=error -c -x 16 -s 16 -k 1M https://huggingface.co/camenduru/3DFauna/resolve/main/64_tets.npz -d /content/3DFauna_demo-hf/data/tets -o 64_tets.npz\n",
        "!aria2c --console-log-level=error -c -x 16 -s 16 -k 1M https://huggingface.co/camenduru/3DFauna/resolve/main/sam_vit_h_4b8939.pth -d /content/3DFauna_demo-hf/sam_pt -o sam_vit_h_4b8939.pth\n",
        "\n",
        "!pip install -q fvcore iopath ninja ConfigArgParse einops fire glfw gradio==3.50.2 ipdb lpips segment_anything siren_pytorch trimesh wandb xatlas\n",
        "!pip install -q https://github.com/camenduru/wheels/releases/download/colab/nvdiffrast-0.3.1-py3-none-any.whl\n",
        "!pip install -q https://github.com/camenduru/wheels/releases/download/colab/pytorch3d-0.7.5-cp310-cp310-linux_x86_64.whl\n",
        "!pip install -q https://github.com/camenduru/wheels/releases/download/colab/tinycudann-1.7-cp310-cp310-linux_x86_64.whl\n",
        "\n",
        "!python app.py"
      ]
    }
  ],
  "metadata": {
    "accelerator": "GPU",
    "colab": {
      "gpuType": "T4",
      "provenance": [],
      "include_colab_link": true
    },
    "kernelspec": {
      "display_name": "Python 3",
      "name": "python3"
    },
    "language_info": {
      "name": "python"
    }
  },
  "nbformat": 4,
  "nbformat_minor": 0
}